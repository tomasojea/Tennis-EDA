{
 "cells": [
  {
   "cell_type": "code",
   "execution_count": 14,
   "metadata": {},
   "outputs": [],
   "source": [
    "import pandas as pd\n",
    "import glob\n",
    "from sklearn.model_selection import train_test_split\n",
    "from sklearn.impute import SimpleImputer\n",
    "from sklearn.metrics import mean_absolute_error\n",
    "from sklearn.tree import DecisionTreeRegressor\n",
    "from sklearn.pipeline import Pipeline\n",
    "from sklearn.compose import ColumnTransformer\n",
    "from sklearn.model_selection import cross_val_score\n",
    "from xgboost import XGBRegressor\n",
    "import numpy as np\n",
    "import seaborn as sns\n",
    "import matplotlib.pyplot as plt\n",
    "import warnings\n",
    "warnings.filterwarnings('ignore')\n"
   ]
  },
  {
   "cell_type": "code",
   "execution_count": 3,
   "metadata": {},
   "outputs": [
    {
     "data": {
      "text/plain": [
       "Index(['tourney_id', 'tourney_name', 'surface', 'draw_size', 'tourney_level',\n",
       "       'tourney_date', 'match_num', 'winner_id', 'winner_seed', 'winner_entry',\n",
       "       'winner_name', 'winner_hand', 'winner_ht', 'winner_ioc', 'winner_age',\n",
       "       'winner_rank', 'winner_rank_points', 'loser_id', 'loser_seed',\n",
       "       'loser_entry', 'loser_name', 'loser_hand', 'loser_ht', 'loser_ioc',\n",
       "       'loser_age', 'loser_rank', 'loser_rank_points', 'score', 'best_of',\n",
       "       'round', 'minutes', 'w_ace', 'w_df', 'w_svpt', 'w_1stIn', 'w_1stWon',\n",
       "       'w_2ndWon', 'w_SvGms', 'w_bpSaved', 'w_bpFaced', 'l_ace', 'l_df',\n",
       "       'l_svpt', 'l_1stIn', 'l_1stWon', 'l_2ndWon', 'l_SvGms', 'l_bpSaved',\n",
       "       'l_bpFaced'],\n",
       "      dtype='object')"
      ]
     },
     "execution_count": 3,
     "metadata": {},
     "output_type": "execute_result"
    }
   ],
   "source": [
    "dataset = 'data/datasets_779_1465_atp_matches_2000.csv'\n",
    "# Format datetime\n",
    "dateparse = lambda x: pd.datetime.strptime(x, '%Y%m%d')\n",
    "df = pd.read_csv(dataset, parse_dates=['tourney_date'], date_parser=dateparse)\n",
    "# Remove rows with missing target, separate target from predictors\n",
    "df.dropna(axis=0, subset=['winner_name'], inplace=True)\n",
    "df.columns\n",
    "# maybe divide columns between losers and winners."
   ]
  },
  {
   "cell_type": "code",
   "execution_count": 595,
   "metadata": {},
   "outputs": [],
   "source": [
    "df = df.drop(columns=['score','tourney_id','winner_id','loser_id','match_num','winner_hand','loser_hand'])"
   ]
  },
  {
   "cell_type": "code",
   "execution_count": 596,
   "metadata": {},
   "outputs": [
    {
     "data": {
      "text/plain": [
       "tourney_name           153\n",
       "surface                  4\n",
       "draw_size                8\n",
       "tourney_level            5\n",
       "tourney_date            52\n",
       "winner_seed             25\n",
       "winner_entry             3\n",
       "winner_name            332\n",
       "winner_ht               15\n",
       "winner_ioc              74\n",
       "winner_age            1534\n",
       "winner_rank            336\n",
       "winner_rank_points    1076\n",
       "loser_seed              32\n",
       "loser_entry              3\n",
       "loser_name             460\n",
       "loser_ht                14\n",
       "loser_ioc               78\n",
       "loser_age             2404\n",
       "loser_rank             442\n",
       "loser_rank_points     1321\n",
       "best_of                  2\n",
       "round                    9\n",
       "minutes                202\n",
       "w_ace                   37\n",
       "w_df                    19\n",
       "w_svpt                 174\n",
       "w_1stIn                119\n",
       "w_1stWon                90\n",
       "w_2ndWon                50\n",
       "w_SvGms                 31\n",
       "w_bpSaved               22\n",
       "w_bpFaced               28\n",
       "l_ace                   32\n",
       "l_df                    20\n",
       "l_svpt                 173\n",
       "l_1stIn                115\n",
       "l_1stWon                88\n",
       "l_2ndWon                50\n",
       "l_SvGms                 31\n",
       "l_bpSaved               22\n",
       "l_bpFaced               30\n",
       "dtype: int64"
      ]
     },
     "execution_count": 596,
     "metadata": {},
     "output_type": "execute_result"
    }
   ],
   "source": [
    "df.nunique(axis=0)"
   ]
  },
  {
   "cell_type": "code",
   "execution_count": null,
   "metadata": {},
   "outputs": [],
   "source": []
  },
  {
   "cell_type": "code",
   "execution_count": 597,
   "metadata": {},
   "outputs": [
    {
     "data": {
      "text/plain": [
       "<matplotlib.axes._subplots.AxesSubplot at 0x7f6671b3f790>"
      ]
     },
     "execution_count": 597,
     "metadata": {},
     "output_type": "execute_result"
    },
    {
     "data": {
      "image/png": "[encoded data removed]",
      "text/plain": [
       "<Figure size 432x288 with 1 Axes>"
      ]
     },
     "metadata": {},
     "output_type": "display_data"
    }
   ],
   "source": [
    "sns.heatmap(df.isnull(), cbar=False)\n",
    "\n"
   ]
  },
  {
   "cell_type": "code",
   "execution_count": 626,
   "metadata": {},
   "outputs": [
    {
     "data": {
      "text/html": [
       "<div>\n",
       "<style scoped>\n",
       "    .dataframe tbody tr th:only-of-type {\n",
       "        vertical-align: middle;\n",
       "    }\n",
       "\n",
       "    .dataframe tbody tr th {\n",
       "        vertical-align: top;\n",
       "    }\n",
       "\n",
       "    .dataframe thead th {\n",
       "        text-align: right;\n",
       "    }\n",
       "</style>\n",
       "<table border=\"1\" class=\"dataframe\">\n",
       "  <thead>\n",
       "    <tr style=\"text-align: right;\">\n",
       "      <th></th>\n",
       "      <th>tourney_name</th>\n",
       "      <th>surface</th>\n",
       "      <th>draw_size</th>\n",
       "      <th>tourney_level</th>\n",
       "      <th>tourney_date</th>\n",
       "      <th>winner_name</th>\n",
       "      <th>winner_ht</th>\n",
       "      <th>winner_ioc</th>\n",
       "      <th>winner_age</th>\n",
       "      <th>winner_rank</th>\n",
       "      <th>...</th>\n",
       "      <th>w_bpFaced</th>\n",
       "      <th>l_ace</th>\n",
       "      <th>l_df</th>\n",
       "      <th>l_svpt</th>\n",
       "      <th>l_1stIn</th>\n",
       "      <th>l_1stWon</th>\n",
       "      <th>l_2ndWon</th>\n",
       "      <th>l_SvGms</th>\n",
       "      <th>l_bpSaved</th>\n",
       "      <th>l_bpFaced</th>\n",
       "    </tr>\n",
       "  </thead>\n",
       "  <tbody>\n",
       "    <tr>\n",
       "      <td>0</td>\n",
       "      <td>Orlando</td>\n",
       "      <td>Clay</td>\n",
       "      <td>32</td>\n",
       "      <td>A</td>\n",
       "      <td>2000-05-01</td>\n",
       "      <td>Antony Dupuis</td>\n",
       "      <td>185.0</td>\n",
       "      <td>FRA</td>\n",
       "      <td>27.181383</td>\n",
       "      <td>113.0</td>\n",
       "      <td>...</td>\n",
       "      <td>15.0</td>\n",
       "      <td>13.0</td>\n",
       "      <td>4.0</td>\n",
       "      <td>110.0</td>\n",
       "      <td>59.0</td>\n",
       "      <td>49.0</td>\n",
       "      <td>31.0</td>\n",
       "      <td>17.0</td>\n",
       "      <td>4.0</td>\n",
       "      <td>4.0</td>\n",
       "    </tr>\n",
       "    <tr>\n",
       "      <td>1</td>\n",
       "      <td>Orlando</td>\n",
       "      <td>Clay</td>\n",
       "      <td>32</td>\n",
       "      <td>A</td>\n",
       "      <td>2000-05-01</td>\n",
       "      <td>Fernando Gonzalez</td>\n",
       "      <td>183.0</td>\n",
       "      <td>CHI</td>\n",
       "      <td>19.756331</td>\n",
       "      <td>352.0</td>\n",
       "      <td>...</td>\n",
       "      <td>6.0</td>\n",
       "      <td>0.0</td>\n",
       "      <td>0.0</td>\n",
       "      <td>57.0</td>\n",
       "      <td>24.0</td>\n",
       "      <td>13.0</td>\n",
       "      <td>17.0</td>\n",
       "      <td>10.0</td>\n",
       "      <td>4.0</td>\n",
       "      <td>9.0</td>\n",
       "    </tr>\n",
       "    <tr>\n",
       "      <td>2</td>\n",
       "      <td>Orlando</td>\n",
       "      <td>Clay</td>\n",
       "      <td>32</td>\n",
       "      <td>A</td>\n",
       "      <td>2000-05-01</td>\n",
       "      <td>Paradorn Srichaphan</td>\n",
       "      <td>185.0</td>\n",
       "      <td>THA</td>\n",
       "      <td>20.881588</td>\n",
       "      <td>103.0</td>\n",
       "      <td>...</td>\n",
       "      <td>0.0</td>\n",
       "      <td>2.0</td>\n",
       "      <td>2.0</td>\n",
       "      <td>65.0</td>\n",
       "      <td>39.0</td>\n",
       "      <td>22.0</td>\n",
       "      <td>10.0</td>\n",
       "      <td>8.0</td>\n",
       "      <td>6.0</td>\n",
       "      <td>10.0</td>\n",
       "    </tr>\n",
       "    <tr>\n",
       "      <td>3</td>\n",
       "      <td>Orlando</td>\n",
       "      <td>Clay</td>\n",
       "      <td>32</td>\n",
       "      <td>A</td>\n",
       "      <td>2000-05-01</td>\n",
       "      <td>Jan Siemerink</td>\n",
       "      <td>183.0</td>\n",
       "      <td>NED</td>\n",
       "      <td>30.047912</td>\n",
       "      <td>107.0</td>\n",
       "      <td>...</td>\n",
       "      <td>12.0</td>\n",
       "      <td>4.0</td>\n",
       "      <td>6.0</td>\n",
       "      <td>104.0</td>\n",
       "      <td>57.0</td>\n",
       "      <td>35.0</td>\n",
       "      <td>24.0</td>\n",
       "      <td>15.0</td>\n",
       "      <td>6.0</td>\n",
       "      <td>11.0</td>\n",
       "    </tr>\n",
       "    <tr>\n",
       "      <td>4</td>\n",
       "      <td>Orlando</td>\n",
       "      <td>Clay</td>\n",
       "      <td>32</td>\n",
       "      <td>A</td>\n",
       "      <td>2000-05-01</td>\n",
       "      <td>Jason Stoltenberg</td>\n",
       "      <td>185.0</td>\n",
       "      <td>AUS</td>\n",
       "      <td>30.075291</td>\n",
       "      <td>74.0</td>\n",
       "      <td>...</td>\n",
       "      <td>1.0</td>\n",
       "      <td>0.0</td>\n",
       "      <td>3.0</td>\n",
       "      <td>47.0</td>\n",
       "      <td>28.0</td>\n",
       "      <td>17.0</td>\n",
       "      <td>10.0</td>\n",
       "      <td>8.0</td>\n",
       "      <td>3.0</td>\n",
       "      <td>6.0</td>\n",
       "    </tr>\n",
       "  </tbody>\n",
       "</table>\n",
       "<p>5 rows × 38 columns</p>\n",
       "</div>"
      ],
      "text/plain": [
       "  tourney_name surface  draw_size tourney_level tourney_date  \\\n",
       "0      Orlando    Clay         32             A   2000-05-01   \n",
       "1      Orlando    Clay         32             A   2000-05-01   \n",
       "2      Orlando    Clay         32             A   2000-05-01   \n",
       "3      Orlando    Clay         32             A   2000-05-01   \n",
       "4      Orlando    Clay         32             A   2000-05-01   \n",
       "\n",
       "           winner_name  winner_ht winner_ioc  winner_age  winner_rank  ...  \\\n",
       "0        Antony Dupuis      185.0        FRA   27.181383        113.0  ...   \n",
       "1    Fernando Gonzalez      183.0        CHI   19.756331        352.0  ...   \n",
       "2  Paradorn Srichaphan      185.0        THA   20.881588        103.0  ...   \n",
       "3        Jan Siemerink      183.0        NED   30.047912        107.0  ...   \n",
       "4    Jason Stoltenberg      185.0        AUS   30.075291         74.0  ...   \n",
       "\n",
       "   w_bpFaced l_ace  l_df l_svpt  l_1stIn  l_1stWon  l_2ndWon  l_SvGms  \\\n",
       "0       15.0  13.0   4.0  110.0     59.0      49.0      31.0     17.0   \n",
       "1        6.0   0.0   0.0   57.0     24.0      13.0      17.0     10.0   \n",
       "2        0.0   2.0   2.0   65.0     39.0      22.0      10.0      8.0   \n",
       "3       12.0   4.0   6.0  104.0     57.0      35.0      24.0     15.0   \n",
       "4        1.0   0.0   3.0   47.0     28.0      17.0      10.0      8.0   \n",
       "\n",
       "  l_bpSaved  l_bpFaced  \n",
       "0       4.0        4.0  \n",
       "1       4.0        9.0  \n",
       "2       6.0       10.0  \n",
       "3       6.0       11.0  \n",
       "4       3.0        6.0  \n",
       "\n",
       "[5 rows x 38 columns]"
      ]
     },
     "execution_count": 626,
     "metadata": {},
     "output_type": "execute_result"
    }
   ],
   "source": [
    "limitPer = len(df) * .80\n",
    "df = df.dropna(thresh=limitPer,axis=1)\n",
    "\n",
    "# X = df.drop(['winner_name'], axis=1)\n",
    "# y = df.w_ace\n",
    "\n",
    "# X.head()\n",
    "\n",
    "df.head()"
   ]
  },
  {
   "cell_type": "code",
   "execution_count": 11,
   "metadata": {},
   "outputs": [
    {
     "data": {
      "text/html": [
       "<div>\n",
       "<style scoped>\n",
       "    .dataframe tbody tr th:only-of-type {\n",
       "        vertical-align: middle;\n",
       "    }\n",
       "\n",
       "    .dataframe tbody tr th {\n",
       "        vertical-align: top;\n",
       "    }\n",
       "\n",
       "    .dataframe thead th {\n",
       "        text-align: right;\n",
       "    }\n",
       "</style>\n",
       "<table border=\"1\" class=\"dataframe\">\n",
       "  <thead>\n",
       "    <tr style=\"text-align: right;\">\n",
       "      <th></th>\n",
       "      <th>loser_id</th>\n",
       "      <th>loser_seed</th>\n",
       "      <th>loser_ht</th>\n",
       "      <th>loser_age</th>\n",
       "      <th>loser_rank</th>\n",
       "      <th>loser_rank_points</th>\n",
       "      <th>l_ace</th>\n",
       "      <th>l_df</th>\n",
       "      <th>l_svpt</th>\n",
       "      <th>l_1stIn</th>\n",
       "      <th>l_1stWon</th>\n",
       "      <th>l_2ndWon</th>\n",
       "      <th>l_SvGms</th>\n",
       "      <th>l_bpSaved</th>\n",
       "      <th>l_bpFaced</th>\n",
       "    </tr>\n",
       "  </thead>\n",
       "  <tbody>\n",
       "    <tr>\n",
       "      <td>count</td>\n",
       "      <td>3364.000000</td>\n",
       "      <td>673.000000</td>\n",
       "      <td>3174.000000</td>\n",
       "      <td>3364.000000</td>\n",
       "      <td>3158.000000</td>\n",
       "      <td>3158.000000</td>\n",
       "      <td>2941.000000</td>\n",
       "      <td>2941.000000</td>\n",
       "      <td>2941.000000</td>\n",
       "      <td>2941.000000</td>\n",
       "      <td>2941.000000</td>\n",
       "      <td>2941.000000</td>\n",
       "      <td>2941.000000</td>\n",
       "      <td>2941.000000</td>\n",
       "      <td>2941.000000</td>\n",
       "    </tr>\n",
       "    <tr>\n",
       "      <td>mean</td>\n",
       "      <td>102670.718193</td>\n",
       "      <td>7.101040</td>\n",
       "      <td>184.159105</td>\n",
       "      <td>25.227831</td>\n",
       "      <td>119.264091</td>\n",
       "      <td>735.150728</td>\n",
       "      <td>5.051343</td>\n",
       "      <td>3.903094</td>\n",
       "      <td>80.158109</td>\n",
       "      <td>45.558654</td>\n",
       "      <td>30.458348</td>\n",
       "      <td>15.782387</td>\n",
       "      <td>12.180211</td>\n",
       "      <td>4.975519</td>\n",
       "      <td>8.982319</td>\n",
       "    </tr>\n",
       "    <tr>\n",
       "      <td>std</td>\n",
       "      <td>926.253502</td>\n",
       "      <td>4.965525</td>\n",
       "      <td>6.334978</td>\n",
       "      <td>3.490324</td>\n",
       "      <td>180.658968</td>\n",
       "      <td>641.910935</td>\n",
       "      <td>4.562910</td>\n",
       "      <td>2.797191</td>\n",
       "      <td>28.419713</td>\n",
       "      <td>18.166456</td>\n",
       "      <td>13.588112</td>\n",
       "      <td>7.447794</td>\n",
       "      <td>4.108829</td>\n",
       "      <td>3.381635</td>\n",
       "      <td>4.239877</td>\n",
       "    </tr>\n",
       "    <tr>\n",
       "      <td>min</td>\n",
       "      <td>100754.000000</td>\n",
       "      <td>1.000000</td>\n",
       "      <td>168.000000</td>\n",
       "      <td>15.227926</td>\n",
       "      <td>1.000000</td>\n",
       "      <td>1.000000</td>\n",
       "      <td>0.000000</td>\n",
       "      <td>0.000000</td>\n",
       "      <td>5.000000</td>\n",
       "      <td>2.000000</td>\n",
       "      <td>0.000000</td>\n",
       "      <td>0.000000</td>\n",
       "      <td>1.000000</td>\n",
       "      <td>0.000000</td>\n",
       "      <td>0.000000</td>\n",
       "    </tr>\n",
       "    <tr>\n",
       "      <td>25%</td>\n",
       "      <td>102143.000000</td>\n",
       "      <td>3.000000</td>\n",
       "      <td>180.000000</td>\n",
       "      <td>22.679671</td>\n",
       "      <td>35.000000</td>\n",
       "      <td>329.000000</td>\n",
       "      <td>2.000000</td>\n",
       "      <td>2.000000</td>\n",
       "      <td>60.000000</td>\n",
       "      <td>33.000000</td>\n",
       "      <td>21.000000</td>\n",
       "      <td>10.000000</td>\n",
       "      <td>9.000000</td>\n",
       "      <td>2.000000</td>\n",
       "      <td>6.000000</td>\n",
       "    </tr>\n",
       "    <tr>\n",
       "      <td>50%</td>\n",
       "      <td>102563.000000</td>\n",
       "      <td>6.000000</td>\n",
       "      <td>185.000000</td>\n",
       "      <td>25.134839</td>\n",
       "      <td>68.000000</td>\n",
       "      <td>597.000000</td>\n",
       "      <td>4.000000</td>\n",
       "      <td>3.000000</td>\n",
       "      <td>75.000000</td>\n",
       "      <td>43.000000</td>\n",
       "      <td>28.000000</td>\n",
       "      <td>15.000000</td>\n",
       "      <td>11.000000</td>\n",
       "      <td>4.000000</td>\n",
       "      <td>8.000000</td>\n",
       "    </tr>\n",
       "    <tr>\n",
       "      <td>75%</td>\n",
       "      <td>103084.000000</td>\n",
       "      <td>9.000000</td>\n",
       "      <td>188.000000</td>\n",
       "      <td>27.646817</td>\n",
       "      <td>120.000000</td>\n",
       "      <td>930.000000</td>\n",
       "      <td>7.000000</td>\n",
       "      <td>5.000000</td>\n",
       "      <td>95.000000</td>\n",
       "      <td>55.000000</td>\n",
       "      <td>38.000000</td>\n",
       "      <td>20.000000</td>\n",
       "      <td>15.000000</td>\n",
       "      <td>7.000000</td>\n",
       "      <td>11.000000</td>\n",
       "    </tr>\n",
       "    <tr>\n",
       "      <td>max</td>\n",
       "      <td>110781.000000</td>\n",
       "      <td>32.000000</td>\n",
       "      <td>201.000000</td>\n",
       "      <td>38.784394</td>\n",
       "      <td>1351.000000</td>\n",
       "      <td>5085.000000</td>\n",
       "      <td>37.000000</td>\n",
       "      <td>21.000000</td>\n",
       "      <td>248.000000</td>\n",
       "      <td>147.000000</td>\n",
       "      <td>120.000000</td>\n",
       "      <td>60.000000</td>\n",
       "      <td>40.000000</td>\n",
       "      <td>25.000000</td>\n",
       "      <td>32.000000</td>\n",
       "    </tr>\n",
       "  </tbody>\n",
       "</table>\n",
       "</div>"
      ],
      "text/plain": [
       "            loser_id  loser_seed     loser_ht    loser_age   loser_rank  \\\n",
       "count    3364.000000  673.000000  3174.000000  3364.000000  3158.000000   \n",
       "mean   102670.718193    7.101040   184.159105    25.227831   119.264091   \n",
       "std       926.253502    4.965525     6.334978     3.490324   180.658968   \n",
       "min    100754.000000    1.000000   168.000000    15.227926     1.000000   \n",
       "25%    102143.000000    3.000000   180.000000    22.679671    35.000000   \n",
       "50%    102563.000000    6.000000   185.000000    25.134839    68.000000   \n",
       "75%    103084.000000    9.000000   188.000000    27.646817   120.000000   \n",
       "max    110781.000000   32.000000   201.000000    38.784394  1351.000000   \n",
       "\n",
       "       loser_rank_points        l_ace         l_df       l_svpt      l_1stIn  \\\n",
       "count        3158.000000  2941.000000  2941.000000  2941.000000  2941.000000   \n",
       "mean          735.150728     5.051343     3.903094    80.158109    45.558654   \n",
       "std           641.910935     4.562910     2.797191    28.419713    18.166456   \n",
       "min             1.000000     0.000000     0.000000     5.000000     2.000000   \n",
       "25%           329.000000     2.000000     2.000000    60.000000    33.000000   \n",
       "50%           597.000000     4.000000     3.000000    75.000000    43.000000   \n",
       "75%           930.000000     7.000000     5.000000    95.000000    55.000000   \n",
       "max          5085.000000    37.000000    21.000000   248.000000   147.000000   \n",
       "\n",
       "          l_1stWon     l_2ndWon      l_SvGms    l_bpSaved    l_bpFaced  \n",
       "count  2941.000000  2941.000000  2941.000000  2941.000000  2941.000000  \n",
       "mean     30.458348    15.782387    12.180211     4.975519     8.982319  \n",
       "std      13.588112     7.447794     4.108829     3.381635     4.239877  \n",
       "min       0.000000     0.000000     1.000000     0.000000     0.000000  \n",
       "25%      21.000000    10.000000     9.000000     2.000000     6.000000  \n",
       "50%      28.000000    15.000000    11.000000     4.000000     8.000000  \n",
       "75%      38.000000    20.000000    15.000000     7.000000    11.000000  \n",
       "max     120.000000    60.000000    40.000000    25.000000    32.000000  "
      ]
     },
     "execution_count": 11,
     "metadata": {},
     "output_type": "execute_result"
    }
   ],
   "source": [
    "df_winners = [col for col in df.columns if 'winner_' in col[:7] or 'w_' in col[0:2]]\n",
    "df_loser = [col for col in df.columns if 'loser_' in col[:7] or 'l_' in col[0:2]]\n",
    "\n",
    "df_l = df[df_loser]\n",
    "df_w = df[df_winners]\n",
    "df_l.describe()\n"
   ]
  },
  {
   "cell_type": "code",
   "execution_count": 560,
   "metadata": {},
   "outputs": [
    {
     "data": {
      "text/html": [
       "<div>\n",
       "<style scoped>\n",
       "    .dataframe tbody tr th:only-of-type {\n",
       "        vertical-align: middle;\n",
       "    }\n",
       "\n",
       "    .dataframe tbody tr th {\n",
       "        vertical-align: top;\n",
       "    }\n",
       "\n",
       "    .dataframe thead th {\n",
       "        text-align: right;\n",
       "    }\n",
       "</style>\n",
       "<table border=\"1\" class=\"dataframe\">\n",
       "  <thead>\n",
       "    <tr style=\"text-align: right;\">\n",
       "      <th></th>\n",
       "      <th>winner_ht</th>\n",
       "      <th>winner_age</th>\n",
       "      <th>winner_rank</th>\n",
       "      <th>winner_rank_points</th>\n",
       "      <th>w_ace</th>\n",
       "      <th>w_df</th>\n",
       "      <th>w_svpt</th>\n",
       "      <th>w_1stIn</th>\n",
       "      <th>w_1stWon</th>\n",
       "      <th>w_2ndWon</th>\n",
       "      <th>w_SvGms</th>\n",
       "      <th>w_bpSaved</th>\n",
       "      <th>w_bpFaced</th>\n",
       "    </tr>\n",
       "  </thead>\n",
       "  <tbody>\n",
       "    <tr>\n",
       "      <td>count</td>\n",
       "      <td>3262.000000</td>\n",
       "      <td>3363.000000</td>\n",
       "      <td>3200.000000</td>\n",
       "      <td>3200.000000</td>\n",
       "      <td>2941.000000</td>\n",
       "      <td>2941.000000</td>\n",
       "      <td>2941.000000</td>\n",
       "      <td>2941.000000</td>\n",
       "      <td>2941.000000</td>\n",
       "      <td>2941.000000</td>\n",
       "      <td>2941.000000</td>\n",
       "      <td>2941.000000</td>\n",
       "      <td>2941.000000</td>\n",
       "    </tr>\n",
       "    <tr>\n",
       "      <td>mean</td>\n",
       "      <td>184.803188</td>\n",
       "      <td>25.062957</td>\n",
       "      <td>86.060312</td>\n",
       "      <td>1011.944062</td>\n",
       "      <td>6.534172</td>\n",
       "      <td>3.080585</td>\n",
       "      <td>77.878273</td>\n",
       "      <td>45.264196</td>\n",
       "      <td>34.189391</td>\n",
       "      <td>17.912275</td>\n",
       "      <td>12.345801</td>\n",
       "      <td>3.708603</td>\n",
       "      <td>5.398504</td>\n",
       "    </tr>\n",
       "    <tr>\n",
       "      <td>std</td>\n",
       "      <td>6.324789</td>\n",
       "      <td>3.423037</td>\n",
       "      <td>150.659404</td>\n",
       "      <td>833.106568</td>\n",
       "      <td>5.050150</td>\n",
       "      <td>2.611064</td>\n",
       "      <td>28.926663</td>\n",
       "      <td>18.135410</td>\n",
       "      <td>12.900977</td>\n",
       "      <td>7.375990</td>\n",
       "      <td>4.077703</td>\n",
       "      <td>3.219375</td>\n",
       "      <td>4.195517</td>\n",
       "    </tr>\n",
       "    <tr>\n",
       "      <td>min</td>\n",
       "      <td>168.000000</td>\n",
       "      <td>15.734428</td>\n",
       "      <td>1.000000</td>\n",
       "      <td>1.000000</td>\n",
       "      <td>0.000000</td>\n",
       "      <td>0.000000</td>\n",
       "      <td>0.000000</td>\n",
       "      <td>0.000000</td>\n",
       "      <td>0.000000</td>\n",
       "      <td>0.000000</td>\n",
       "      <td>0.000000</td>\n",
       "      <td>0.000000</td>\n",
       "      <td>0.000000</td>\n",
       "    </tr>\n",
       "    <tr>\n",
       "      <td>25%</td>\n",
       "      <td>180.000000</td>\n",
       "      <td>22.583162</td>\n",
       "      <td>19.000000</td>\n",
       "      <td>473.000000</td>\n",
       "      <td>3.000000</td>\n",
       "      <td>1.000000</td>\n",
       "      <td>56.000000</td>\n",
       "      <td>32.000000</td>\n",
       "      <td>25.000000</td>\n",
       "      <td>13.000000</td>\n",
       "      <td>9.000000</td>\n",
       "      <td>1.000000</td>\n",
       "      <td>2.000000</td>\n",
       "    </tr>\n",
       "    <tr>\n",
       "      <td>50%</td>\n",
       "      <td>185.000000</td>\n",
       "      <td>24.903491</td>\n",
       "      <td>46.000000</td>\n",
       "      <td>795.000000</td>\n",
       "      <td>5.000000</td>\n",
       "      <td>3.000000</td>\n",
       "      <td>73.000000</td>\n",
       "      <td>42.000000</td>\n",
       "      <td>32.000000</td>\n",
       "      <td>17.000000</td>\n",
       "      <td>11.000000</td>\n",
       "      <td>3.000000</td>\n",
       "      <td>5.000000</td>\n",
       "    </tr>\n",
       "    <tr>\n",
       "      <td>75%</td>\n",
       "      <td>190.000000</td>\n",
       "      <td>27.462012</td>\n",
       "      <td>87.000000</td>\n",
       "      <td>1243.000000</td>\n",
       "      <td>9.000000</td>\n",
       "      <td>4.000000</td>\n",
       "      <td>94.000000</td>\n",
       "      <td>55.000000</td>\n",
       "      <td>41.000000</td>\n",
       "      <td>22.000000</td>\n",
       "      <td>15.000000</td>\n",
       "      <td>5.000000</td>\n",
       "      <td>8.000000</td>\n",
       "    </tr>\n",
       "    <tr>\n",
       "      <td>max</td>\n",
       "      <td>208.000000</td>\n",
       "      <td>38.611910</td>\n",
       "      <td>1312.000000</td>\n",
       "      <td>5208.000000</td>\n",
       "      <td>39.000000</td>\n",
       "      <td>18.000000</td>\n",
       "      <td>224.000000</td>\n",
       "      <td>145.000000</td>\n",
       "      <td>113.000000</td>\n",
       "      <td>61.000000</td>\n",
       "      <td>41.000000</td>\n",
       "      <td>22.000000</td>\n",
       "      <td>28.000000</td>\n",
       "    </tr>\n",
       "  </tbody>\n",
       "</table>\n",
       "</div>"
      ],
      "text/plain": [
       "         winner_ht   winner_age  winner_rank  winner_rank_points        w_ace  \\\n",
       "count  3262.000000  3363.000000  3200.000000         3200.000000  2941.000000   \n",
       "mean    184.803188    25.062957    86.060312         1011.944062     6.534172   \n",
       "std       6.324789     3.423037   150.659404          833.106568     5.050150   \n",
       "min     168.000000    15.734428     1.000000            1.000000     0.000000   \n",
       "25%     180.000000    22.583162    19.000000          473.000000     3.000000   \n",
       "50%     185.000000    24.903491    46.000000          795.000000     5.000000   \n",
       "75%     190.000000    27.462012    87.000000         1243.000000     9.000000   \n",
       "max     208.000000    38.611910  1312.000000         5208.000000    39.000000   \n",
       "\n",
       "              w_df       w_svpt      w_1stIn     w_1stWon     w_2ndWon  \\\n",
       "count  2941.000000  2941.000000  2941.000000  2941.000000  2941.000000   \n",
       "mean      3.080585    77.878273    45.264196    34.189391    17.912275   \n",
       "std       2.611064    28.926663    18.135410    12.900977     7.375990   \n",
       "min       0.000000     0.000000     0.000000     0.000000     0.000000   \n",
       "25%       1.000000    56.000000    32.000000    25.000000    13.000000   \n",
       "50%       3.000000    73.000000    42.000000    32.000000    17.000000   \n",
       "75%       4.000000    94.000000    55.000000    41.000000    22.000000   \n",
       "max      18.000000   224.000000   145.000000   113.000000    61.000000   \n",
       "\n",
       "           w_SvGms    w_bpSaved    w_bpFaced  \n",
       "count  2941.000000  2941.000000  2941.000000  \n",
       "mean     12.345801     3.708603     5.398504  \n",
       "std       4.077703     3.219375     4.195517  \n",
       "min       0.000000     0.000000     0.000000  \n",
       "25%       9.000000     1.000000     2.000000  \n",
       "50%      11.000000     3.000000     5.000000  \n",
       "75%      15.000000     5.000000     8.000000  \n",
       "max      41.000000    22.000000    28.000000  "
      ]
     },
     "execution_count": 560,
     "metadata": {},
     "output_type": "execute_result"
    }
   ],
   "source": [
    "df_w.describe()"
   ]
  },
  {
   "cell_type": "code",
   "execution_count": null,
   "metadata": {},
   "outputs": [],
   "source": [
    "def plot_distribution(dataset, cols=5, width=20, height=15, hspace=1, wspace=1):\n",
    "    plt.style.use('seaborn-whitegrid')\n",
    "    fig = plt.figure(figsize=(width,height))\n",
    "    fig.subplots_adjust(left=None, bottom=None, right=None, top=None, wspace=wspace, hspace=hspace)\n",
    "    rows = math.ceil(float(dataset.shape[1]) / cols)\n",
    "    for i, column in enumerate(dataset.columns):\n",
    "        ax = fig.add_subplot(rows, cols, i + 1)\n",
    "        ax.set_title(column)\n",
    "        if dataset.dtypes[column] == np.object and dataset.dtypes[column] != np.dtype('<M8[ns]'):\n",
    "            g = sns.countplot(y=column, data=dataset)\n",
    "            substrings = [s.get_text()[:18] for s in g.get_yticklabels()]\n",
    "            g.set(yticklabels=substrings)\n",
    "            plt.xticks(rotation=25)\n",
    "        elif dataset.dtypes[column] != np.dtype('<M8[ns]'):\n",
    "            g = sns.distplot(dataset[column])\n",
    "            plt.xticks(rotation=25)\n",
    "    \n",
    "plot_distribution(df.dropna(), cols=3, width=20, height=50, hspace=0.45, wspace=0.45)\n"
   ]
  },
  {
   "cell_type": "code",
   "execution_count": 692,
   "metadata": {},
   "outputs": [],
   "source": [
    "df['draw_size'].astype('object')\n",
    "numeric_data = df.select_dtypes(exclude=['object', 'datetime64'])\n",
    "categorical_data = df.select_dtypes(include='object')\n"
   ]
  },
  {
   "cell_type": "code",
   "execution_count": 562,
   "metadata": {},
   "outputs": [
    {
     "data": {
      "text/html": [
       "<div>\n",
       "<style scoped>\n",
       "    .dataframe tbody tr th:only-of-type {\n",
       "        vertical-align: middle;\n",
       "    }\n",
       "\n",
       "    .dataframe tbody tr th {\n",
       "        vertical-align: top;\n",
       "    }\n",
       "\n",
       "    .dataframe thead th {\n",
       "        text-align: right;\n",
       "    }\n",
       "</style>\n",
       "<table border=\"1\" class=\"dataframe\">\n",
       "  <thead>\n",
       "    <tr style=\"text-align: right;\">\n",
       "      <th></th>\n",
       "      <th>Tournaments</th>\n",
       "      <th>Matches</th>\n",
       "    </tr>\n",
       "    <tr>\n",
       "      <th>surface</th>\n",
       "      <th></th>\n",
       "      <th></th>\n",
       "    </tr>\n",
       "  </thead>\n",
       "  <tbody>\n",
       "    <tr>\n",
       "      <td>Carpet</td>\n",
       "      <td>21</td>\n",
       "      <td>208</td>\n",
       "    </tr>\n",
       "    <tr>\n",
       "      <td>Clay</td>\n",
       "      <td>57</td>\n",
       "      <td>1119</td>\n",
       "    </tr>\n",
       "    <tr>\n",
       "      <td>Grass</td>\n",
       "      <td>11</td>\n",
       "      <td>326</td>\n",
       "    </tr>\n",
       "    <tr>\n",
       "      <td>Hard</td>\n",
       "      <td>64</td>\n",
       "      <td>1711</td>\n",
       "    </tr>\n",
       "  </tbody>\n",
       "</table>\n",
       "</div>"
      ],
      "text/plain": [
       "         Tournaments  Matches\n",
       "surface                      \n",
       "Carpet            21      208\n",
       "Clay              57     1119\n",
       "Grass             11      326\n",
       "Hard              64     1711"
      ]
     },
     "execution_count": 562,
     "metadata": {},
     "output_type": "execute_result"
    }
   ],
   "source": [
    "#X.tourney_name.unique()\n",
    "\n",
    "tourn_by_surface =  df.groupby('surface', as_index = True)['tourney_name'].nunique()\n",
    "matchcount_by_surface = df.groupby('surface', as_index = True)['tourney_name'].count()\n",
    "#tourn_by_surface.plot(kind=\"bar\", stacked=True)\n",
    "frame = { 'Tournaments': tourn_by_surface, 'Matches': matchcount_by_surface } \n",
    "  \n",
    "result = pd.DataFrame(frame) \n",
    "result.head()"
   ]
  },
  {
   "cell_type": "code",
   "execution_count": 563,
   "metadata": {},
   "outputs": [
    {
     "data": {
      "text/plain": [
       "<matplotlib.axes._subplots.AxesSubplot at 0x7f666d681f10>"
      ]
     },
     "execution_count": 563,
     "metadata": {},
     "output_type": "execute_result"
    },
    {
     "data": {
      "image/png": "[encoded data removed]",
      "text/plain": [
       "<Figure size 432x288 with 1 Axes>"
      ]
     },
     "metadata": {},
     "output_type": "display_data"
    }
   ],
   "source": [
    "sns.set_style('whitegrid')\n",
    "sns.countplot(x='surface',data=X)"
   ]
  },
  {
   "cell_type": "code",
   "execution_count": 76,
   "metadata": {},
   "outputs": [
    {
     "data": {
      "text/plain": [
       "array([1, 3, 2, 0])"
      ]
     },
     "execution_count": 76,
     "metadata": {},
     "output_type": "execute_result"
    }
   ],
   "source": [
    "# from sklearn.preprocessing import LabelEncoder\n",
    "# #creating instance of labelencoder\n",
    "# labelencoder = LabelEncoder()\n",
    "# dfc = df.copy()\n",
    "# #Assigning numerical values and storing in another column\n",
    "# dfc['surface'] = labelencoder.fit_transform(dfc['surface'])\n",
    "\n",
    "# # distrubition of frequency on dependent feature \n",
    "# dfc['surface'].unique()"
   ]
  },
  {
   "cell_type": "code",
   "execution_count": null,
   "metadata": {},
   "outputs": [],
   "source": []
  },
  {
   "cell_type": "code",
   "execution_count": 106,
   "metadata": {},
   "outputs": [
    {
     "data": {
      "text/plain": [
       "<seaborn.axisgrid.JointGrid at 0x7f0335d0be10>"
      ]
     },
     "execution_count": 106,
     "metadata": {},
     "output_type": "execute_result"
    },
    {
     "data": {
      "image/png": "[encoded data removed]",
      "text/plain": [
       "<Figure size 432x432 with 3 Axes>"
      ]
     },
     "metadata": {
      "needs_background": "light"
     },
     "output_type": "display_data"
    },
    {
     "data": {
      "image/png": "[encoded data removed]",
      "text/plain": [
       "<Figure size 432x432 with 3 Axes>"
      ]
     },
     "metadata": {
      "needs_background": "light"
     },
     "output_type": "display_data"
    }
   ],
   "source": [
    "sns.jointplot(x=\"loser_ht\", y=\"l_ace\", data=df)\n",
    "sns.jointplot(x=\"winner_ht\", y=\"w_ace\", data=df)"
   ]
  },
  {
   "cell_type": "code",
   "execution_count": null,
   "metadata": {
    "scrolled": true
   },
   "outputs": [],
   "source": []
  },
  {
   "cell_type": "code",
   "execution_count": null,
   "metadata": {},
   "outputs": [],
   "source": []
  },
  {
   "cell_type": "code",
   "execution_count": 567,
   "metadata": {
    "scrolled": true
   },
   "outputs": [
    {
     "data": {
      "text/plain": [
       "<matplotlib.axes._subplots.AxesSubplot at 0x7f6664305690>"
      ]
     },
     "execution_count": 567,
     "metadata": {},
     "output_type": "execute_result"
    },
    {
     "data": {
      "image/png": "[encoded data removed]",
      "text/plain": [
       "<Figure size 360x360 with 1 Axes>"
      ]
     },
     "metadata": {},
     "output_type": "display_data"
    }
   ],
   "source": [
    "# sum w_ace and l_ace and create a column from it.\n",
    "df['sum_ace'] = df['w_ace'] + df['l_ace']\n",
    "w_ace_by_surface = df.groupby('surface', as_index = False)['sum_ace'].mean()\n",
    "w_ace_by_surface['w_ace'] = w_ace_by_surface['sum_ace'].astype(int)\n",
    "w_ace_by_surface.index = w_ace_by_surface['surface']\n",
    "# pie plot of total of winner aces per surface\n",
    "w_ace_by_surface = w_ace_by_surface.drop('surface', axis=1)\n",
    "w_ace_by_surface.plot('surface','sum_ace', kind='pie', title='Average of aces on each surface',figsize=(5,5))\n"
   ]
  },
  {
   "cell_type": "code",
   "execution_count": 644,
   "metadata": {},
   "outputs": [
    {
     "data": {
      "text/html": [
       "<div>\n",
       "<style scoped>\n",
       "    .dataframe tbody tr th:only-of-type {\n",
       "        vertical-align: middle;\n",
       "    }\n",
       "\n",
       "    .dataframe tbody tr th {\n",
       "        vertical-align: top;\n",
       "    }\n",
       "\n",
       "    .dataframe thead th {\n",
       "        text-align: right;\n",
       "    }\n",
       "</style>\n",
       "<table border=\"1\" class=\"dataframe\">\n",
       "  <thead>\n",
       "    <tr style=\"text-align: right;\">\n",
       "      <th></th>\n",
       "      <th>loser_rank</th>\n",
       "      <th>loser_name</th>\n",
       "    </tr>\n",
       "  </thead>\n",
       "  <tbody>\n",
       "    <tr>\n",
       "      <td>47</td>\n",
       "      <td>1.0</td>\n",
       "      <td>Andre Agassi</td>\n",
       "    </tr>\n",
       "    <tr>\n",
       "      <td>77</td>\n",
       "      <td>4.0</td>\n",
       "      <td>Nicolas Kiefer</td>\n",
       "    </tr>\n",
       "    <tr>\n",
       "      <td>92</td>\n",
       "      <td>3.0</td>\n",
       "      <td>Yevgeny Kafelnikov</td>\n",
       "    </tr>\n",
       "    <tr>\n",
       "      <td>156</td>\n",
       "      <td>2.0</td>\n",
       "      <td>Gustavo Kuerten</td>\n",
       "    </tr>\n",
       "    <tr>\n",
       "      <td>157</td>\n",
       "      <td>1.0</td>\n",
       "      <td>Andre Agassi</td>\n",
       "    </tr>\n",
       "  </tbody>\n",
       "</table>\n",
       "</div>"
      ],
      "text/plain": [
       "     loser_rank          loser_name\n",
       "47          1.0        Andre Agassi\n",
       "77          4.0      Nicolas Kiefer\n",
       "92          3.0  Yevgeny Kafelnikov\n",
       "156         2.0     Gustavo Kuerten\n",
       "157         1.0        Andre Agassi"
      ]
     },
     "execution_count": 644,
     "metadata": {},
     "output_type": "execute_result"
    }
   ],
   "source": [
    "l_w_ranks = df[['loser_rank', 'loser_name']]\n",
    "\n",
    "aa = l_w_ranks[l_w_ranks[\"loser_rank\"] < 10]\n",
    "\n",
    "aa.head()"
   ]
  },
  {
   "cell_type": "code",
   "execution_count": 69,
   "metadata": {},
   "outputs": [
    {
     "data": {
      "image/png": "[encoded data removed]",
      "text/plain": [
       "<Figure size 720x360 with 2 Axes>"
      ]
     },
     "metadata": {
      "needs_background": "light"
     },
     "output_type": "display_data"
    }
   ],
   "source": [
    "# average minutes per surface\n",
    "match_length_by_surf = df.groupby('surface', as_index = False)['minutes'].mean()\n",
    "match_length_by_surf['minutes'] = match_length_by_surf['minutes'].astype(int)\n",
    "# average draw size per surface\n",
    "draw_size_by_surface = df.groupby('surface', as_index = False)['draw_size'].mean()\n",
    "# subplotting \n",
    "fig, ax =plt.subplots(1,2,figsize=(10, 5))\n",
    "\n",
    "draw_size_by_surface.plot('surface', kind='bar', \n",
    "                          title='Average of draw size on each surface', ax=ax[0])\n",
    "match_length_by_surf.plot('surface', kind='bar',\n",
    "                          title='Average of minutes on each surface', ax=ax[1])\n",
    "fig.show()\n"
   ]
  },
  {
   "cell_type": "code",
   "execution_count": 15,
   "metadata": {
    "scrolled": true
   },
   "outputs": [
    {
     "data": {
      "text/plain": [
       "<matplotlib.axes._subplots.AxesSubplot at 0x7f034ff825d0>"
      ]
     },
     "execution_count": 15,
     "metadata": {},
     "output_type": "execute_result"
    },
    {
     "data": {
      "image/png": "[encoded data removed]",
      "text/plain": [
       "<Figure size 432x288 with 1 Axes>"
      ]
     },
     "metadata": {
      "needs_background": "light"
     },
     "output_type": "display_data"
    }
   ],
   "source": [
    "# bin on winner_rank and take the mean of w_1stIn and  w_1stWon and stack them\n",
    "df_w['rank_bin']=pd.cut(x=df['winner_rank'], bins=[1,10,50,100,200,500,1000], \n",
    "                        labels=[\"1-10\", \"10-50\", \"50-100\",\"100-200\",\"200-500\",\"500-1000\"])\n",
    "\n",
    "\n",
    "plot_variables = df_w[['rank_bin','w_1stIn','w_1stWon']]\n",
    "indexes = plot_variables.set_index('rank_bin')\n",
    "rank_bin = indexes.groupby('rank_bin').mean()\n",
    "\n",
    "rank_bin.plot.bar(stacked=True)\n"
   ]
  },
  {
   "cell_type": "code",
   "execution_count": 572,
   "metadata": {},
   "outputs": [],
   "source": [
    "# pd.DataFrame(data=train_X,index=train_X.,columns=train_X.columns)\n"
   ]
  },
  {
   "cell_type": "code",
   "execution_count": null,
   "metadata": {},
   "outputs": [],
   "source": []
  },
  {
   "cell_type": "code",
   "execution_count": 666,
   "metadata": {},
   "outputs": [
    {
     "data": {
      "image/png": "[encoded data removed]",
      "text/plain": [
       "<Figure size 432x288 with 1 Axes>"
      ]
     },
     "metadata": {},
     "output_type": "display_data"
    }
   ],
   "source": [
    "df = df.dropna()\n",
    "sns.distplot(df.loc[df['w_ace']]['winner_age'], kde_kws={\"label\": \"w_ace\"});\n",
    "sns.distplot(df.loc[df['l_ace']]['loser_age'], kde_kws={\"label\": \"l_ace\"});\n"
   ]
  },
  {
   "cell_type": "code",
   "execution_count": 131,
   "metadata": {},
   "outputs": [
    {
     "data": {
      "text/plain": [
       "[<matplotlib.axes._subplots.AxesSubplot at 0x7f0337a2e650>,\n",
       " <matplotlib.axes._subplots.AxesSubplot at 0x7f03379c7710>]"
      ]
     },
     "execution_count": 131,
     "metadata": {},
     "output_type": "execute_result"
    },
    {
     "data": {
      "image/png": "[encoded data removed]",
      "text/plain": [
       "<Figure size 720x720 with 4 Axes>"
      ]
     },
     "metadata": {
      "needs_background": "light"
     },
     "output_type": "display_data"
    }
   ],
   "source": [
    "f1, axes1 = plt.subplots(2, 2, figsize=(10, 10), sharex=True)\n",
    "f1.subplots_adjust(wspace=0.5, hspace=0.5, bottom=0)\n",
    "# loser rank by surface\n",
    "sns.catplot(x=\"surface\", y=\"loser_rank\",  data=df,ax=axes1[0,0]);\n",
    "# winner rank by surface\n",
    "sns.catplot(x=\"surface\", y=\"winner_rank\",  data=df,ax=axes1[0,1]);\n",
    "# winner rank by tourney\n",
    "sns.catplot(x=\"tourney_level\", y=\"winner_rank\",  data=df, ax=axes1[1,0])\n",
    "# loser rank by tourney\n",
    "sns.catplot(x=\"tourney_level\", y=\"loser_rank\",  data=df, ax=axes1[1,1])\n",
    "plt.close(3)\n",
    "plt.close(4)\n",
    "plt.close(2)\n",
    "plt.close()"
   ]
  },
  {
   "cell_type": "code",
   "execution_count": null,
   "metadata": {},
   "outputs": [],
   "source": []
  },
  {
   "cell_type": "code",
   "execution_count": null,
   "metadata": {},
   "outputs": [],
   "source": []
  },
  {
   "cell_type": "code",
   "execution_count": 722,
   "metadata": {},
   "outputs": [
    {
     "data": {
      "text/plain": [
       "<matplotlib.axes._subplots.AxesSubplot at 0x7f6667e0ba90>"
      ]
     },
     "execution_count": 722,
     "metadata": {},
     "output_type": "execute_result"
    },
    {
     "data": {
      "image/png": "[encoded data removed]",
      "text/plain": [
       "<Figure size 1080x648 with 4 Axes>"
      ]
     },
     "metadata": {},
     "output_type": "display_data"
    }
   ],
   "source": [
    "# frequency distribution\n",
    "w_rank = pd.Series(df['winner_rank'])\n",
    "l_rank = pd.Series(df['loser_rank'])\n",
    "concate_ranks = pd.concat([w_rank, l_rank])\n",
    "\n",
    "f, axes = plt.subplots(2, 2, figsize=(15, 9),)\n",
    "\n",
    "sns.distplot(l_rank,kde=False,color='darkred',bins=50, ax=axes[0,0])\n",
    "sns.distplot(w_rank,kde=False,color='darkred',bins=60, ax=axes[0,1])\n",
    "df.boxplot(column='loser_rank',ax=axes[1,0])\n",
    "df.boxplot(column='winner_rank',ax=axes[1,1])\n"
   ]
  },
  {
   "cell_type": "code",
   "execution_count": null,
   "metadata": {},
   "outputs": [],
   "source": []
  },
  {
   "cell_type": "code",
   "execution_count": null,
   "metadata": {},
   "outputs": [],
   "source": [
    "\n"
   ]
  },
  {
   "cell_type": "code",
   "execution_count": null,
   "metadata": {},
   "outputs": [],
   "source": []
  },
  {
   "cell_type": "code",
   "execution_count": null,
   "metadata": {},
   "outputs": [],
   "source": []
  },
  {
   "cell_type": "code",
   "execution_count": 580,
   "metadata": {},
   "outputs": [],
   "source": [
    "\n",
    "# from sklearn.preprocessing import OneHotEncoder\n",
    "\n",
    "# train_X, val_X, train_y, val_y = train_test_split(X, y, random_state = 0)\n",
    "\n",
    "# numerical_cols = [cname for cname in train_X.columns if \n",
    "#                 train_X[cname].dtype in ['int64', 'float64']]\n",
    "\n",
    "# train_X = train_X[numerical_cols].copy()\n",
    "\n",
    "# categorical_cols = [cname for cname in train_X.columns if\n",
    "#                     train_X[cname].nunique() < 10 and \n",
    "#                     train_X[cname].dtype == \"object\"]\n",
    "\n",
    "\n",
    "# # Keep selected columns only\n",
    "# my_cols = categorical_cols + numerical_cols\n",
    "# X_train = train_X[my_cols].copy()\n",
    "# X_valid = train_X[my_cols].copy()\n",
    "# X_test = train_X[my_cols].copy()\n",
    "\n",
    "# numerical_transformer = SimpleImputer(strategy='constant')\n",
    "\n",
    "# # Preprocessing for categorical data\n",
    "# categorical_transformer = Pipeline(steps=[\n",
    "#     ('imputer', SimpleImputer(strategy='constant')),\n",
    "#     ('onehot', OneHotEncoder(handle_unknown='ignore'))\n",
    "# ])\n",
    "\n",
    "# # Bundle preprocessing for numerical and categorical data\n",
    "# preprocessor = ColumnTransformer(\n",
    "#     transformers=[\n",
    "#         ('num', numerical_transformer, numerical_cols),\n",
    "#         ('cat', categorical_transformer, categorical_cols)\n",
    "#     ])\n",
    "\n",
    "# train_X = preprocessor.fit_transform(train_X, train_y)\n",
    "\n",
    "#######################################################\n",
    "\n",
    "# from sklearn.feature_selection import SelectKBest\n",
    "# from sklearn.feature_selection import chi2\n",
    "\n",
    "# bestfeatures = SelectKBest(score_func=chi2, k=10)\n",
    "# fit = bestfeatures.fit(np.nan_to_num(train_X), np.nan_to_num(train_y))\n",
    "# dfscores = pd.DataFrame(fit.scores_)\n",
    "# dfcolumns = pd.DataFrame(X.columns)\n",
    "# #concat two dataframes for better visualization \n",
    "# featureScores = pd.concat([dfcolumns,dfscores],axis=1)\n",
    "# featureScores.columns = ['Specs','Score']  #naming the dataframe columns\n",
    "# featureScores.nlargest(10,'Score')  #print 10 best features"
   ]
  },
  {
   "cell_type": "code",
   "execution_count": 581,
   "metadata": {},
   "outputs": [
    {
     "data": {
      "text/plain": [
       "array([ 32, 128,  48,  64,  96,  56,   8,   4])"
      ]
     },
     "execution_count": 581,
     "metadata": {},
     "output_type": "execute_result"
    }
   ],
   "source": [
    "df.draw_size.unique()"
   ]
  },
  {
   "cell_type": "code",
   "execution_count": 582,
   "metadata": {},
   "outputs": [
    {
     "data": {
      "text/plain": [
       "array(['A', 'G', 'M', 'F', 'D'], dtype=object)"
      ]
     },
     "execution_count": 582,
     "metadata": {},
     "output_type": "execute_result"
    }
   ],
   "source": [
    "df.tourney_level.unique()"
   ]
  },
  {
   "cell_type": "code",
   "execution_count": null,
   "metadata": {},
   "outputs": [],
   "source": []
  },
  {
   "cell_type": "code",
   "execution_count": 584,
   "metadata": {},
   "outputs": [],
   "source": [
    "# # remove outliers\n",
    "# from scipy import stats\n",
    "# z = np.abs(stats.zscore(df['w_ace']))\n",
    "# threshold = 3\n",
    "# print(np.where(z > 3))\n",
    "# print(z[109])\n",
    "# df_o = df[(z < 3)]\n",
    "\n",
    "# #df_o.shape\n",
    "# df_o.head()\n",
    "# #sns.jointplot(x=\"winner_ht\", y=\"winner_ht\", data=df_o);\n",
    "\n",
    "\n",
    "\n"
   ]
  },
  {
   "cell_type": "code",
   "execution_count": null,
   "metadata": {},
   "outputs": [],
   "source": []
  },
  {
   "cell_type": "code",
   "execution_count": null,
   "metadata": {},
   "outputs": [],
   "source": [
    "\n",
    "\n"
   ]
  },
  {
   "cell_type": "code",
   "execution_count": null,
   "metadata": {},
   "outputs": [],
   "source": []
  }
 ],
 "metadata": {
  "kernelspec": {
   "display_name": "Python 3",
   "language": "python",
   "name": "python3"
  },
  "language_info": {
   "codemirror_mode": {
    "name": "ipython",
    "version": 3
   },
   "file_extension": ".py",
   "mimetype": "text/x-python",
   "name": "python",
   "nbconvert_exporter": "python",
   "pygments_lexer": "ipython3",
   "version": "3.7.4"
  }
 },
 "nbformat": 4,
 "nbformat_minor": 2
}
